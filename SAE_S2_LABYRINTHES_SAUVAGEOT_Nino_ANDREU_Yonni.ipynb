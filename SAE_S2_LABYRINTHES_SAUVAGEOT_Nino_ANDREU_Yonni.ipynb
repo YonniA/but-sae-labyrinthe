{
 "cells": [
  {
   "cell_type": "code",
   "execution_count": 13,
   "id": "5a8c73a0",
   "metadata": {},
   "outputs": [],
   "source": [
    "class Maze:\n",
    "    \"\"\"\n",
    "    Classe Labyrinthe\n",
    "    Représentation sous forme de graphe non-orienté\n",
    "    dont chaque sommet est une cellule (un tuple (l,c))\n",
    "    et dont la structure est représentée par un dictionnaire\n",
    "      - clés : sommets\n",
    "      - valeurs : ensemble des sommets voisins accessibles\n",
    "    \"\"\"\n",
    "    def __init__(self, height, width, empty):\n",
    "        \"\"\"\n",
    "        Constructeur d'un labyrinthe de height cellules de haut \n",
    "        et de width cellules de large \n",
    "        Les voisinages sont initialisés à des ensembles vides\n",
    "        Remarque : dans le labyrinthe créé, chaque cellule est complètement emmurée\n",
    "        \"\"\"\n",
    "        self.height    = height\n",
    "        self.width     = width\n",
    "        if empty:\n",
    "            self.neighbors = None\n",
    "        else:\n",
    "            self.neighbors = {(i,j): set() for i in range(height) for j in range (width)}\n",
    "        \n",
    "    def info(self):\n",
    "        \"\"\"\n",
    "        **NE PAS MODIFIER CETTE MÉTHODE**\n",
    "        Affichage des attributs d'un objet 'Maze' (fonction utile pour deboguer)\n",
    "        Retour:\n",
    "            chaîne (string): description textuelle des attributs de l'objet\n",
    "        \"\"\"\n",
    "        txt = \"**Informations sur le labyrinthe**\\n\"\n",
    "        txt += f\"- Dimensions de la grille : {self.height} x {self.width}\\n\"\n",
    "        txt += \"- Voisinages :\\n\"\n",
    "        txt += str(self.neighbors)+\"\\n\"\n",
    "        valid = True\n",
    "        for c1 in {(i, j) for i in range(self.height) for j in range(self.width)}:\n",
    "            for c2 in self.neighbors[c1]:\n",
    "                if c1 not in self.neighbors[c2]:\n",
    "                    valid = False\n",
    "                    break\n",
    "            else:\n",
    "                continue\n",
    "            break\n",
    "        txt += \"- Structure cohérente\\n\" if valid else f\"- Structure incohérente : {c1} X {c2}\\n\"\n",
    "        return txt\n",
    "\n",
    "    def __str__(self):\n",
    "        \"\"\"\n",
    "        **NE PAS MODIFIER CETTE MÉTHODE**\n",
    "        Représentation textuelle d'un objet Maze (en utilisant des caractères ascii)\n",
    "        Retour:\n",
    "             chaîne (str) : chaîne de caractères représentant le labyrinthe\n",
    "        \"\"\"\n",
    "        txt = \"\"\n",
    "        # Première ligne\n",
    "        txt += \"┏\"\n",
    "        for j in range(self.width-1):\n",
    "            txt += \"━━━┳\"\n",
    "        txt += \"━━━┓\\n\"\n",
    "        txt += \"┃\"\n",
    "        for j in range(self.width-1):\n",
    "            txt += \"   ┃\" if (0,j+1) not in self.neighbors[(0,j)] else \"    \"\n",
    "        txt += \"   ┃\\n\"\n",
    "        # Lignes normales\n",
    "        for i in range(self.height-1):\n",
    "            txt += \"┣\"\n",
    "            for j in range(self.width-1):\n",
    "                txt += \"━━━╋\" if (i+1,j) not in self.neighbors[(i,j)] else \"   ╋\"\n",
    "            txt += \"━━━┫\\n\" if (i+1,self.width-1) not in self.neighbors[(i,self.width-1)] else \"   ┫\\n\"\n",
    "            txt += \"┃\"\n",
    "            for j in range(self.width):\n",
    "                txt += \"   ┃\" if (i+1,j+1) not in self.neighbors[(i+1,j)] else \"    \"\n",
    "            txt += \"\\n\"\n",
    "        # Bas du tableau\n",
    "        txt += \"┗\"\n",
    "        for i in range(self.width-1):\n",
    "            txt += \"━━━┻\"\n",
    "        txt += \"━━━┛\\n\"\n",
    "\n",
    "        return txt"
   ]
  },
  {
   "cell_type": "code",
   "execution_count": 2,
   "id": "e5a40ac7",
   "metadata": {},
   "outputs": [
    {
     "name": "stdout",
     "output_type": "stream",
     "text": [
      "**Informations sur le labyrinthe**\n",
      "- Dimensions de la grille : 4 x 4\n",
      "- Voisinages :\n",
      "{(0, 0): set(), (0, 1): set(), (0, 2): set(), (0, 3): set(), (1, 0): set(), (1, 1): set(), (1, 2): set(), (1, 3): set(), (2, 0): set(), (2, 1): set(), (2, 2): set(), (2, 3): set(), (3, 0): set(), (3, 1): set(), (3, 2): set(), (3, 3): set()}\n",
      "- Structure cohérente\n",
      "\n"
     ]
    }
   ],
   "source": [
    "laby = Maze(4, 4)\n",
    "print(laby.info())"
   ]
  },
  {
   "cell_type": "code",
   "execution_count": 3,
   "id": "238b633b",
   "metadata": {},
   "outputs": [
    {
     "name": "stdout",
     "output_type": "stream",
     "text": [
      "┏━━━┳━━━┳━━━┳━━━┓\n",
      "┃   ┃   ┃   ┃   ┃\n",
      "┣━━━╋━━━╋━━━╋━━━┫\n",
      "┃   ┃   ┃   ┃   ┃\n",
      "┣━━━╋━━━╋━━━╋━━━┫\n",
      "┃   ┃   ┃   ┃   ┃\n",
      "┣━━━╋━━━╋━━━╋━━━┫\n",
      "┃   ┃   ┃   ┃   ┃\n",
      "┗━━━┻━━━┻━━━┻━━━┛\n",
      "\n"
     ]
    }
   ],
   "source": [
    "print(laby)"
   ]
  },
  {
   "cell_type": "code",
   "execution_count": 4,
   "id": "32c4b3cf",
   "metadata": {},
   "outputs": [
    {
     "name": "stdout",
     "output_type": "stream",
     "text": [
      "┏━━━┳━━━┳━━━┳━━━┓\n",
      "┃   ┃           ┃\n",
      "┣   ╋   ╋━━━╋   ┫\n",
      "┃   ┃       ┃   ┃\n",
      "┣   ╋━━━╋   ╋   ┫\n",
      "┃           ┃   ┃\n",
      "┣   ╋━━━╋━━━╋   ┫\n",
      "┃           ┃   ┃\n",
      "┗━━━┻━━━┻━━━┻━━━┛\n",
      "\n"
     ]
    }
   ],
   "source": [
    "laby.neighbors = {\n",
    "    (0, 0): {(1, 0)},\n",
    "    (0, 1): {(0, 2), (1, 1)},\n",
    "    (0, 2): {(0, 1), (0, 3)},\n",
    "    (0, 3): {(0, 2), (1, 3)},\n",
    "    (1, 0): {(2, 0), (0, 0)},\n",
    "    (1, 1): {(0, 1), (1, 2)},\n",
    "    (1, 2): {(1, 1), (2, 2)},\n",
    "    (1, 3): {(2, 3), (0, 3)},\n",
    "    (2, 0): {(1, 0), (2, 1), (3, 0)},\n",
    "    (2, 1): {(2, 0), (2, 2)},\n",
    "    (2, 2): {(1, 2), (2, 1)},\n",
    "    (2, 3): {(3, 3), (1, 3)},\n",
    "    (3, 0): {(3, 1), (2, 0)},\n",
    "    (3, 1): {(3, 2), (3, 0)},\n",
    "    (3, 2): {(3, 1)},\n",
    "    (3, 3): {(2, 3)}\n",
    "}\n",
    "\n",
    "print(laby)"
   ]
  },
  {
   "cell_type": "code",
   "execution_count": 5,
   "id": "7690cc39",
   "metadata": {},
   "outputs": [
    {
     "name": "stdout",
     "output_type": "stream",
     "text": [
      "┏━━━┳━━━┳━━━┳━━━┓\n",
      "┃   ┃           ┃\n",
      "┣   ╋   ╋━━━╋   ┫\n",
      "┃   ┃       ┃   ┃\n",
      "┣   ╋━━━╋   ╋━━━┫\n",
      "┃           ┃   ┃\n",
      "┣   ╋━━━╋━━━╋   ┫\n",
      "┃           ┃   ┃\n",
      "┗━━━┻━━━┻━━━┻━━━┛\n",
      "\n"
     ]
    }
   ],
   "source": [
    "laby.neighbors[(1,3)].remove((2,3))\n",
    "laby.neighbors[(2,3)].remove((1,3))\n",
    "print(laby)"
   ]
  },
  {
   "cell_type": "code",
   "execution_count": 6,
   "id": "a2dde09f",
   "metadata": {},
   "outputs": [
    {
     "name": "stdout",
     "output_type": "stream",
     "text": [
      "┏━━━┳━━━┳━━━┳━━━┓\n",
      "┃   ┃           ┃\n",
      "┣   ╋   ╋━━━╋   ┫\n",
      "┃   ┃       ┃   ┃\n",
      "┣   ╋━━━╋   ╋   ┫\n",
      "┃           ┃   ┃\n",
      "┣   ╋━━━╋━━━╋   ┫\n",
      "┃           ┃   ┃\n",
      "┗━━━┻━━━┻━━━┻━━━┛\n",
      "\n"
     ]
    }
   ],
   "source": [
    "laby.neighbors[(1, 3)].add((2, 3))\n",
    "laby.neighbors[(2, 3)].add((1, 3))\n",
    "print(laby)"
   ]
  },
  {
   "cell_type": "code",
   "execution_count": 7,
   "id": "376f997a",
   "metadata": {},
   "outputs": [
    {
     "name": "stdout",
     "output_type": "stream",
     "text": [
      "┏━━━┳━━━┳━━━┳━━━┓\n",
      "┃   ┃           ┃\n",
      "┣   ╋   ╋━━━╋   ┫\n",
      "┃   ┃       ┃   ┃\n",
      "┣   ╋━━━╋   ╋━━━┫\n",
      "┃           ┃   ┃\n",
      "┣   ╋━━━╋━━━╋   ┫\n",
      "┃           ┃   ┃\n",
      "┗━━━┻━━━┻━━━┻━━━┛\n",
      "\n",
      "**Informations sur le labyrinthe**\n",
      "- Dimensions de la grille : 4 x 4\n",
      "- Voisinages :\n",
      "{(0, 0): {(1, 0)}, (0, 1): {(1, 1), (0, 2)}, (0, 2): {(0, 1), (0, 3)}, (0, 3): {(0, 2), (1, 3)}, (1, 0): {(2, 0), (0, 0)}, (1, 1): {(0, 1), (1, 2)}, (1, 2): {(1, 1), (2, 2)}, (1, 3): {(0, 3)}, (2, 0): {(1, 0), (2, 1), (3, 0)}, (2, 1): {(2, 0), (2, 2)}, (2, 2): {(1, 2), (2, 1)}, (2, 3): {(3, 3), (1, 3)}, (3, 0): {(3, 1), (2, 0)}, (3, 1): {(3, 2), (3, 0)}, (3, 2): {(3, 1)}, (3, 3): {(2, 3)}}\n",
      "- Structure incohérente : (2, 3) X (1, 3)\n",
      "\n"
     ]
    }
   ],
   "source": [
    "laby.neighbors[(1, 3)].remove((2, 3))\n",
    "print(laby)\n",
    "print(laby.info())"
   ]
  },
  {
   "cell_type": "code",
   "execution_count": 8,
   "id": "1bba250e",
   "metadata": {},
   "outputs": [],
   "source": [
    "laby.neighbors[(2, 3)].remove((1,3))"
   ]
  },
  {
   "cell_type": "code",
   "execution_count": 9,
   "id": "37885827",
   "metadata": {},
   "outputs": [
    {
     "name": "stdout",
     "output_type": "stream",
     "text": [
      "Il y a un mur entre (1, 3) et (2, 3) car (1, 3) n'est pas dans le voisinage de (2, 3) et (2, 3) n'est pas dans le voisinage de (1, 3)\n"
     ]
    }
   ],
   "source": [
    "c1 = (1, 3)\n",
    "c2 = (2, 3)\n",
    "if c1 in laby.neighbors[c2] and c2 in laby.neighbors[c1]:\n",
    "    print(f\"Il n'y a pas de mur entre {c1} et {c2} car elles sont mutuellement voisines\")\n",
    "elif c1 not in laby.neighbors[c2] and c2 not in laby.neighbors[c1]:\n",
    "    print(f\"Il y a un mur entre {c1} et {c2} car {c1} n'est pas dans le voisinage de {c2} et {c2} n'est pas dans le voisinage de {c1}\")\n",
    "else:\n",
    "    print(f\"Il y a une incohérence de réciprocité des voisinages de {c1} et {c2}\")"
   ]
  },
  {
   "cell_type": "code",
   "execution_count": 10,
   "id": "cf711f2f",
   "metadata": {},
   "outputs": [
    {
     "name": "stdout",
     "output_type": "stream",
     "text": [
      "(1, 3) n'est pas accessible depuis (2, 3) et vice-versa\n"
     ]
    }
   ],
   "source": [
    "c1 = (1, 3)\n",
    "c2 = (2, 3)\n",
    "if c1 in laby.neighbors[c2] and c2 in laby.neighbors[c1]:\n",
    "    print(f\"{c1} est accessible depuis {c2} et vice-versa\")\n",
    "elif c1 not in laby.neighbors[c2] and c2 not in laby.neighbors[c1]:\n",
    "    print(f\"{c1} n'est pas accessible depuis {c2} et vice-versa\")\n",
    "else:\n",
    "    print(f\"Il y a une incohérence de réciprocité des voisinages de {c1} et {c2}\")"
   ]
  },
  {
   "cell_type": "code",
   "execution_count": 11,
   "id": "c72b96c7",
   "metadata": {},
   "outputs": [
    {
     "name": "stdout",
     "output_type": "stream",
     "text": [
      "Liste des cellules : \n",
      "[(0, 0), (0, 1), (0, 2), (0, 3), (1, 0), (1, 1), (1, 2), (1, 3), (2, 0), (2, 1), (2, 2), (2, 3), (3, 0), (3, 1), (3, 2), (3, 3)]\n"
     ]
    }
   ],
   "source": [
    "L = []\n",
    "for i in range(laby.height):\n",
    "    for j in range(laby.width):\n",
    "        L.append((i,j))\n",
    "print(f\"Liste des cellules : \\n{L}\")"
   ]
  },
  {
   "cell_type": "code",
   "execution_count": null,
   "id": "6cace963",
   "metadata": {},
   "outputs": [],
   "source": []
  }
 ],
 "metadata": {
  "kernelspec": {
   "display_name": "Python 3 (ipykernel)",
   "language": "python",
   "name": "python3"
  },
  "language_info": {
   "codemirror_mode": {
    "name": "ipython",
    "version": 3
   },
   "file_extension": ".py",
   "mimetype": "text/x-python",
   "name": "python",
   "nbconvert_exporter": "python",
   "pygments_lexer": "ipython3",
   "version": "3.8.10"
  }
 },
 "nbformat": 4,
 "nbformat_minor": 5
}
